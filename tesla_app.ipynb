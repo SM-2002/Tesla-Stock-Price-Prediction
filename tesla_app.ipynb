{
 "cells": [
  {
   "cell_type": "code",
   "execution_count": 1,
   "id": "d277a2ef",
   "metadata": {},
   "outputs": [],
   "source": [
    "from flask import Flask\n",
    "from flask import render_template\n",
    "import joblib \n",
    "from flask import request"
   ]
  },
  {
   "cell_type": "code",
   "execution_count": 2,
   "id": "96c7b8f2",
   "metadata": {},
   "outputs": [],
   "source": [
    "app=Flask(__name__)\n",
    "model=joblib.load('te.pkl')\n",
    "@app.route('/')\n",
    "def hello(name=None):\n",
    "    return render_template('index.html', name=name)\n",
    "\n",
    "@app.route('/results',methods=['GET','POST'])\n",
    "def get_value():\n",
    "    if request.method=='POST':\n",
    "        Date=int(request.form.get('Date'))\n",
    "        Open=float(request.form.get('Open'))\n",
    "        High=float(request.form.get('High'))\n",
    "        Low=float(request.form.get('Low'))\n",
    "        Close=float(request.form.get('Close'))\n",
    "        Volume=int(request.form.get('Volume'))\n",
    "        predict=model.predict([[Date,Open,High,Low,Close,Volume]])\n",
    "    return render_template('results.html',prediction=[predict[0]])"
   ]
  },
  {
   "cell_type": "code",
   "execution_count": null,
   "id": "7689552b",
   "metadata": {},
   "outputs": [
    {
     "name": "stdout",
     "output_type": "stream",
     "text": [
      " * Serving Flask app '__main__'\n",
      " * Debug mode: off\n"
     ]
    },
    {
     "name": "stderr",
     "output_type": "stream",
     "text": [
      "WARNING: This is a development server. Do not use it in a production deployment. Use a production WSGI server instead.\n",
      " * Running on http://127.0.0.1:5000\n",
      "Press CTRL+C to quit\n",
      "127.0.0.1 - - [16/May/2025 18:47:41] \"GET / HTTP/1.1\" 200 -\n",
      "127.0.0.1 - - [16/May/2025 18:47:42] \"GET /favicon.ico HTTP/1.1\" 404 -\n",
      "C:\\Users\\sweta\\anaconda3\\Lib\\site-packages\\sklearn\\base.py:439: UserWarning: X does not have valid feature names, but RandomForestRegressor was fitted with feature names\n",
      "  warnings.warn(\n",
      "127.0.0.1 - - [16/May/2025 18:48:54] \"POST /results HTTP/1.1\" 200 -\n"
     ]
    }
   ],
   "source": [
    "if __name__=='__main__':\n",
    "    app.run()"
   ]
  }
 ],
 "metadata": {
  "kernelspec": {
   "display_name": "Python 3 (ipykernel)",
   "language": "python",
   "name": "python3"
  },
  "language_info": {
   "codemirror_mode": {
    "name": "ipython",
    "version": 3
   },
   "file_extension": ".py",
   "mimetype": "text/x-python",
   "name": "python",
   "nbconvert_exporter": "python",
   "pygments_lexer": "ipython3",
   "version": "3.10.18"
  }
 },
 "nbformat": 4,
 "nbformat_minor": 5
}
